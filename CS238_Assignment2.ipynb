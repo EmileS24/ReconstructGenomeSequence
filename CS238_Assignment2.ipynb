{
  "nbformat": 4,
  "nbformat_minor": 0,
  "metadata": {
    "colab": {
      "provenance": [],
      "gpuType": "T4"
    },
    "kernelspec": {
      "name": "python3",
      "display_name": "Python 3"
    },
    "language_info": {
      "name": "python"
    }
  },
  "cells": [
    {
      "cell_type": "markdown",
      "source": [
        "***DNA Assembly using Hamiltonian Path approach***\n",
        "1. Read the shotgun reads from the fasta file.\n",
        "2. Create a graph representation of the overlaps between reads.\n",
        "3. Find the Hamiltonian path in the graph\n",
        "4. Stitch the reads together based on the path to obtain the reconstructed genome sequence."
      ],
      "metadata": {
        "id": "MXyTqqXhRdcr"
      }
    },
    {
      "cell_type": "code",
      "source": [
        "def parse_fasta(file_path):\n",
        "    reads = []\n",
        "    with open(file_path, \"r\") as file:\n",
        "        lines = file.readlines()\n",
        "        for line in lines:\n",
        "            if line.startswith(\">\"):\n",
        "                reads.append(\"\")\n",
        "            else:\n",
        "                reads[-1] += line.strip()\n",
        "    return reads\n",
        "\n",
        "\n",
        "def build_graph(reads):\n",
        "    graph = {}\n",
        "    for i, read in enumerate(reads):\n",
        "        graph[i] = []\n",
        "        for j, other_read in enumerate(reads):\n",
        "            if i != j:\n",
        "                overlap = find_overlap(read, other_read)\n",
        "                if overlap:\n",
        "                    graph[i].append(j)\n",
        "    return graph\n",
        "\n",
        "\n",
        "def find_overlap(read1, read2):\n",
        "    min_overlap = min(len(read1), len(read2)) // 2\n",
        "    for i in range(min_overlap, 0, -1):\n",
        "        if read1.endswith(read2[:i]):\n",
        "            return i\n",
        "    return 0\n",
        "\n",
        "\n",
        "def find_hamiltonian_path(graph):\n",
        "    stack = [0]\n",
        "    path = []\n",
        "\n",
        "    while stack:\n",
        "        node = stack[-1]\n",
        "        if node not in path:\n",
        "            path.append(node)\n",
        "        if len(path) == len(graph):\n",
        "            return path\n",
        "        found_neighbor = False\n",
        "        for neighbor in graph[node]:\n",
        "            if neighbor not in path:\n",
        "                stack.append(neighbor)\n",
        "                found_neighbor = True\n",
        "                break\n",
        "        if not found_neighbor:\n",
        "            stack.pop()\n",
        "\n",
        "    return None\n",
        "\n",
        "\n",
        "def reconstruct_genome(reads, path):\n",
        "    genome = reads[path[0]]\n",
        "    for i in range(1, len(path)):\n",
        "        overlap = find_overlap(reads[path[i - 1]], reads[path[i]])\n",
        "        genome += reads[path[i]][overlap:]\n",
        "    return genome[:1126]  # Take the first 1000 basepairs\n",
        "\n",
        "\n",
        "# Parse the fasta file and extract the reads\n",
        "reads = parse_fasta(\"reads.fasta\")\n",
        "\n",
        "# Build the graph representation\n",
        "graph = build_graph(reads)\n",
        "\n",
        "# Find the Hamiltonian path\n",
        "hamiltonian_path = find_hamiltonian_path(graph)\n",
        "\n",
        "if hamiltonian_path is not None:\n",
        "    # Reconstruct the original genome sequence\n",
        "    genome = reconstruct_genome(reads, hamiltonian_path)\n",
        "    print(\"Reconstructed Genome Sequence:\")\n",
        "    print(genome)\n",
        "    print(\"Length of Reconstructed Genome Sequence:\")\n",
        "    print(len(genome))\n",
        "else:\n",
        "    print(\"No Hamiltonian path found.\")\n"
      ],
      "metadata": {
        "colab": {
          "base_uri": "https://localhost:8080/"
        },
        "id": "njvyRGN5Qx0i",
        "outputId": "85653246-afb0-411e-afb8-0667f37473a0"
      },
      "execution_count": 78,
      "outputs": [
        {
          "output_type": "stream",
          "name": "stdout",
          "text": [
            "Reconstructed Genome Sequence:\n",
            "AGCCAATAGCAGATATGCCCATACCGCTGTATTCATAGCTTTCTCTACACGGCCTAAAAGCGGTCGACTGCACGGTCGACTGCACGCAGTCTTCCGGAGCCAATAGCAGATATGCCCATACTTATCACGTACGTAGATTCGAATACAAATTCGACAGATGTGGTTTAATGATTCCGCCTCCTATTACAACAGCCCCGAGGATCCTGCACTGAGTCTGAGGAGCTGGGGTGCAAATTAGACGGCCTAAAAGCGGTCGACTGCAAGGTAGGGGTACGTACATGTTTCCCATAGGCAGCGCCTGCCGCTGTTACAACAGCCGACATTGCGACACAATACCAGTTTTTATTGTGTCCATGTACCGCCTAACACTTATCACGTACGTACATGTTTCGGGAGAGAAAGGGGTGATGTTCTGTTATTAGACCGACGCCCCTAATTGGATCAATCAGGGTAGGTCATGGGAGGGGTGATGTTCGAATAAATGGCATATAAGCCCGGATCCGTCCTGTCTGCGACACTGACATGGATCCGTCCTGTCTGCGACGTTTCGGGTCGATAAAGCGTTGTCCGACGCCCCTAATTGGATCAATCCTGATGGTACTCCCCCTTCATTGCGCCCGTTTCCCATGTACCGCCTAGTACAAATTCGACAGATGTGGTTTATTCGATGGGTAGGTCATGGGAGTAGAGTCGGTGAGGAGCTGGGGTGAGTCTTCCTGATGGTACTCCCCCTGCACCATGAACGCGATTGCTAAACATGGATCCGTCCTGTCTGCGACATGGGAGGGGTGATGTTCTGTTATTGGTACTCCCCCTTCATTGGTCGGTAGAGTCGGTGAGGAGCTGGGGTGAGGATTAGCGCCCGTTTCCCATGTACCGCCTAACACTCGTGGTGAGCAGGAAATTATTCGCTTTACTAGTCACGTGCTCTAAAATAGCTTTCTCTACACGATCGAGTTGGGAGGATTAGCGCCCGTTTCCTCCTGGGGTCCGCGATGTCATAGCGAATCCGGAGTGGGTATAGAGGCTCTGTTGTGACTGTCCGTACTCTCCAATAGCAGATATGCCCATACCCGATTCCGCCTCCTATTACAACAGCCGCTGTATTCATAGCTTTCTCTACAAT\n",
            "Length of Reconstructed Genome Sequence:\n",
            "1126\n"
          ]
        }
      ]
    },
    {
      "cell_type": "markdown",
      "source": [
        "**DNA Assembly using Eulerian Path approach**\n",
        "\n",
        "1. Parse the fasta file and extract the shotgun reads.\n",
        "2. Build a de Bruijn graph using the shotgun reads.\n",
        "3. Find the Eulerian path in the de Bruijn graph.\n",
        "4. Concatenate the nodes of the Eulerian path to obtain the reconstructed genome sequence.\n",
        "\n",
        "The key part is choosing the appropriate value for k in the de Bruijn graph approach can be a challenging task, as it depends on various factors such as read length, sequencing errors, and genome complexity. \n"
      ],
      "metadata": {
        "id": "4zdc4pbjRmxw"
      }
    },
    {
      "cell_type": "code",
      "source": [
        "def parse_fasta_file(file_path):\n",
        "    sequences = []\n",
        "    with open(file_path, 'r') as file:\n",
        "        lines = file.readlines()\n",
        "        for line in lines:\n",
        "            line = line.strip()\n",
        "            if line.startswith('>'):\n",
        "                sequences.append('')\n",
        "            else:\n",
        "                sequences[-1] += line\n",
        "    return sequences\n",
        "\n",
        "def build_de_bruijn_graph(sequences, k):\n",
        "    graph = {}\n",
        "    for sequence in sequences:\n",
        "        for i in range(len(sequence) - k + 1):\n",
        "            kmer = sequence[i:i+k]\n",
        "            prefix = kmer[:-1]\n",
        "            suffix = kmer[1:]\n",
        "            if prefix in graph:\n",
        "                graph[prefix].append(suffix)\n",
        "            else:\n",
        "                graph[prefix] = [suffix]\n",
        "    return graph\n",
        "\n",
        "def find_eulerian_path(graph):\n",
        "    start_node = list(graph.keys())[0]\n",
        "    current_node = start_node\n",
        "    path = [current_node]\n",
        "\n",
        "    while True:\n",
        "        if current_node not in graph:\n",
        "            break\n",
        "        next_node = graph[current_node].pop()\n",
        "        if len(graph[current_node]) == 0:\n",
        "            del graph[current_node]\n",
        "        current_node = next_node\n",
        "        path.append(current_node)\n",
        "\n",
        "    return path\n",
        "\n",
        "def reconstruct_genome(sequences, k):\n",
        "    graph = build_de_bruijn_graph(sequences, k)\n",
        "    eulerian_path = find_eulerian_path(graph)\n",
        "    reconstructed_genome = eulerian_path[0]\n",
        "    for node in eulerian_path[1:]:\n",
        "        reconstructed_genome += node[-1]\n",
        "    return reconstructed_genome[:1209]  # Take the first 1000 basepairs\n",
        "\n",
        "# Provide the path to the fasta file\n",
        "fasta_file = 'reads.fasta'\n",
        "\n",
        "# Parse the fasta file and extract the shotgun reads\n",
        "sequences = parse_fasta_file(fasta_file)\n",
        "\n",
        "# Reconstruct the original genome sequence\n",
        "reconstructed_sequence = reconstruct_genome(sequences, k=5)  # Adjust the value of k as needed\n",
        "print(\"Reconstructed Genome Sequence using Eulerian Path approach:\")\n",
        "print(reconstructed_sequence)\n",
        "print(\"Length of Reconstructed Genome Sequence:\")\n",
        "print(len(reconstructed_sequence))"
      ],
      "metadata": {
        "colab": {
          "base_uri": "https://localhost:8080/"
        },
        "id": "oMa_LUCqWOZo",
        "outputId": "7b1d024f-e42d-4cc9-dcc3-d6deb58c03fe"
      },
      "execution_count": 79,
      "outputs": [
        {
          "output_type": "stream",
          "name": "stdout",
          "text": [
            "Reconstructed Genome Sequence using Eulerian Path approach:\n",
            "AGCCCATTACGTGATTCCGTGCTCTACCAGTTTCGGGAGAGATGGTCGGTGAAGTTTCATTGGTACTCCCCTTCATCTAAAACCGATCTGTTATTAGACCCCCGGCCCGTACATGTTCTGCCGTCCTGTCTGCCGCCGCTGCGAATGGATCCGGAGATGGTTGGGAGTGGAGAAAGGCATATAAGCCCGGAATACCCATAGGCCAATCCGGAGTGGAGGATTACTAGTCACGTACGAAAGCCAATCCGGCCAATAAGCGCCTGCGAATCCGCCTCCTAGACATGGCAGCGCAAGGCTTTACAACAGTGGGAGTGGGTACATGGTTGGGTGATTCGGGAGGGGTAGAGCCGACAAAACAGCTTCAATCCGGAGAGATATAAAACAGTTATTGTGTCCCATGTTTTATCTGCGACACGTGCTCTAAATGGCGCCCGTTTCCGGAGTGGAGTGATGTATAAGCCCGTGCTCTAAATGGTTATCTGCGAATCCGGAGATTAGCGTTTCGAATAGCAGATAAAGGTAGGTCGGTGAATCCGGAGTTAATGGGGTATTATGCCGTCCTGTACGTGCTCTACACAAGGTACTAGTCCGGCCCATTGGTCACGTACCGATATGATTTGCAAGGCATATAGAGATGTTTCTCTCGTTGGTTATCTGCGACATTGGGTAGGGGTATAGCTTTACTAGTCATTGCGACACTGAATAAAAACCGCCCGTAGAGGCCCGGAGCTTCAGCTGCGAATGGTCGGGTCGATCCGTTTCGGGTCGGTGCAAGGCATATAGACATAGGATCATGTGGTTTCGGTGATCGATTAGAGGCTTTACTCCCCTTCAGCTTTACTAGTCACGTGAGCTGGGAGTGGGTGATGGCAGAGGATCTACCAGTCATAGACAACAGCCGCCGACGTGTCTGTCCCATTAGCGCCTATTCATTGCGACATAGGAGGCGACACAAATTACGACATTGCAAAAACCGACACTGGATTATCATCGACATTCGATGGTTAATGTTCCCATAAGCCGATCACGATGTACTCTCTAAGTCGGTGAGGGGTATAAGTGTCTAACAGCTGGATCGATCTGCCCAGCCCATGGGAGGATTAGAGTCCGTACTAGACCCCCTTCATGTTCTGTCTTCATCGAATCCGGCAGAGTTTAATGAGGATTTGCGACGTGCTCCTCTACAACACAGATGAAGTGTTGTCCGGC\n",
            "Length of Reconstructed Genome Sequence:\n",
            "1209\n"
          ]
        }
      ]
    }
  ]
}